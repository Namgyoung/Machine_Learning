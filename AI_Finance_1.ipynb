{
  "nbformat": 4,
  "nbformat_minor": 0,
  "metadata": {
    "colab": {
      "name": "AI_Finance_1.ipynb",
      "provenance": [],
      "authorship_tag": "ABX9TyMoOOqoLe2PkIobrTZZ3YP1",
      "include_colab_link": true
    },
    "kernelspec": {
      "name": "python3",
      "display_name": "Python 3"
    },
    "language_info": {
      "name": "python"
    }
  },
  "cells": [
    {
      "cell_type": "markdown",
      "metadata": {
        "id": "view-in-github",
        "colab_type": "text"
      },
      "source": [
        "<a href=\"https://colab.research.google.com/github/Namgyoung/Machine_Learning/blob/main/AI_Finance_1.ipynb\" target=\"_parent\"><img src=\"https://colab.research.google.com/assets/colab-badge.svg\" alt=\"Open In Colab\"/></a>"
      ]
    },
    {
      "cell_type": "code",
      "execution_count": null,
      "metadata": {
        "id": "23X2-TGdK2hy"
      },
      "outputs": [],
      "source": [
        "#stock return\n",
        "import numpy as np\n",
        "import pandas as pd\n",
        "\n",
        "data = np.random.rand(1,100)    #.rand는 0부터 1사이의 균일 분포에서 난수 matrix array 생성, (1,100)은 (1행,100열)matrix 의미\n",
        "data"
      ]
    },
    {
      "cell_type": "code",
      "source": [
        "df_data = pd.DataFrame(data.T)\n",
        "df_data"
      ],
      "metadata": {
        "id": "Gbcg918gK903"
      },
      "execution_count": null,
      "outputs": []
    },
    {
      "cell_type": "code",
      "source": [
        "stock_return = (df_data - df_data.shift(1))/df_data.shift(1)      #p(t)-p(t-1)/p(t-1). return 구하는 공식 적용\n",
        "stock_return"
      ],
      "metadata": {
        "id": "AJNUVoxZLBgT"
      },
      "execution_count": null,
      "outputs": []
    },
    {
      "cell_type": "code",
      "source": [
        "#log return\n",
        "stock_return = np.log(df_data) - np.log(df_data.shift(1))\n",
        "stock_return"
      ],
      "metadata": {
        "id": "WIyG89NZLIC6"
      },
      "execution_count": null,
      "outputs": []
    },
    {
      "cell_type": "code",
      "source": [
        "stock_return = df_data.pct_change()   #percentage change\n",
        "stock_return"
      ],
      "metadata": {
        "id": "_J4bXw39LbHk"
      },
      "execution_count": null,
      "outputs": []
    },
    {
      "cell_type": "code",
      "source": [
        "import matplotlib.pyplot as plt\n",
        "plt.hist(stock_return.dropna());"
      ],
      "metadata": {
        "id": "OxFeg1XaLkJ0"
      },
      "execution_count": null,
      "outputs": []
    },
    {
      "cell_type": "code",
      "source": [
        "import seaborn as sns\n",
        "tips = sns.load_dataset('tips')\n",
        "tips"
      ],
      "metadata": {
        "id": "27p_iHMlR8G3"
      },
      "execution_count": null,
      "outputs": []
    },
    {
      "cell_type": "code",
      "source": [
        "np.cov(tips.tip, tips.total_bill)   #(2,2)matrix에서 (1,1), (2,2): Varaince by itself / (1,2),(2,1): Covariance"
      ],
      "metadata": {
        "id": "8AO__hk8T27O"
      },
      "execution_count": null,
      "outputs": []
    },
    {
      "cell_type": "code",
      "source": [
        "print('Correlation coefficient is {:.4f}'.format(tips.tip.corr(tips.total_bill)))   #tip이랑 total_bill 사이의 correlation"
      ],
      "metadata": {
        "id": "IjB9OXz7UHdl"
      },
      "execution_count": null,
      "outputs": []
    },
    {
      "cell_type": "code",
      "source": [
        "tips.corr()"
      ],
      "metadata": {
        "id": "9Re9NohPZiEM"
      },
      "execution_count": null,
      "outputs": []
    },
    {
      "cell_type": "code",
      "source": [
        "sns.heatmap(tips.corr(), annot=True)\n",
        "plt.show()"
      ],
      "metadata": {
        "id": "W7GKMl-SZ-6k"
      },
      "execution_count": null,
      "outputs": []
    },
    {
      "cell_type": "code",
      "source": [
        "plt.figure(figsize=(10,6))\n",
        "sns.heatmap(tips.corr(), annot=True, vmin=-1, vmax=1, center=0)\n",
        "plt.show()"
      ],
      "metadata": {
        "id": "6DIJO393aLBi"
      },
      "execution_count": null,
      "outputs": []
    },
    {
      "cell_type": "code",
      "source": [
        "import statsmodels.api as sm\n",
        "import plotly.graph_objs as go\n",
        "import plotly"
      ],
      "metadata": {
        "id": "UwBw4DNtanRL"
      },
      "execution_count": 83,
      "outputs": []
    },
    {
      "cell_type": "code",
      "source": [
        "n_assets = 5\n",
        "n_simulation = 500"
      ],
      "metadata": {
        "id": "7sq4eRE2bF6b"
      },
      "execution_count": 84,
      "outputs": []
    },
    {
      "cell_type": "code",
      "source": [
        "returns = np.random.randn(n_assets,n_simulation)\n",
        "returns"
      ],
      "metadata": {
        "id": "rFZLL1CsbJMa"
      },
      "execution_count": null,
      "outputs": []
    },
    {
      "cell_type": "code",
      "source": [
        "random = np.random.rand(n_assets)\n",
        "weights = random / len(random)\n",
        "def exp_port_return(returns):\n",
        "  rets = np.mean(returns, axis=1)\n",
        "  cov = np.cov(rets.T, aweights=weights, ddof=0)\n",
        "  portfolio_return = np.dot(weights, rets.T)\n",
        "  portfolio_std_dev = np.sqrt(np.dot(weights, np.dot(cov, weights)))\n",
        "  return portfolio_return, portfolio_std_dev"
      ],
      "metadata": {
        "id": "BKv6SksvbXED"
      },
      "execution_count": 86,
      "outputs": []
    },
    {
      "cell_type": "code",
      "source": [
        "portfolio_return, portfolio_std_dev = exp_port_return(returns)"
      ],
      "metadata": {
        "id": "A-F8Q4odcOh2"
      },
      "execution_count": 87,
      "outputs": []
    },
    {
      "cell_type": "code",
      "source": [
        "print(portfolio_return)\n",
        "print(portfolio_std_dev)"
      ],
      "metadata": {
        "id": "dPp8_pB3ccuS"
      },
      "execution_count": null,
      "outputs": []
    },
    {
      "cell_type": "code",
      "source": [
        "portfolio = np.array([exp_port_return(np.random.randn(5, i)) for i in range(1,101)])\n",
        "portfolio"
      ],
      "metadata": {
        "id": "k5wfNiDrcteL"
      },
      "execution_count": null,
      "outputs": []
    },
    {
      "cell_type": "code",
      "source": [
        "best_fit = sm.OLS(portfolio[:,1], sm.add_constant(portfolio[:,0])).fit().fittedvalues\n",
        "best_fit"
      ],
      "metadata": {
        "id": "ZRAVmc3nd_Zj"
      },
      "execution_count": null,
      "outputs": []
    },
    {
      "cell_type": "code",
      "source": [
        "fig = go.Figure()\n",
        "fig.add_trace(go.Scatter(name='Risk-Return Relationship', \n",
        "                         x=portfolio[:,0], y=portfolio[:,1], \n",
        "                         mode='markers'))\n",
        "fig.add_trace(go.Scatter(name='best fit line', x=np.array(portfolio[:,0]), \n",
        "                                               y=best_fit, mode='lines'))\n",
        "fig.update_layout(xaxis_title='Mean',\n",
        "                  yaxis_title='Standard Deviation')\n",
        "fig.show()"
      ],
      "metadata": {
        "id": "Y8rkGw4mfCWC"
      },
      "execution_count": null,
      "outputs": []
    },
    {
      "cell_type": "code",
      "source": [
        "#Yahoo Finance\n",
        "!pip install yfinance\n",
        "import yfinance as yf"
      ],
      "metadata": {
        "id": "HMTO6tDQf1Zr"
      },
      "execution_count": null,
      "outputs": []
    },
    {
      "cell_type": "code",
      "source": [
        "import pandas as pd\n",
        "import numpy as np\n",
        "import matplotlib.pyplot as plt\n",
        "import datetime"
      ],
      "metadata": {
        "id": "WdwC5Z0AhDLK"
      },
      "execution_count": 93,
      "outputs": []
    },
    {
      "cell_type": "code",
      "source": [
        "tickers = ['^GSPC', 'AAPL', 'MSFT', 'INTC']   #^GSPC는 인덱스임\n",
        "start = '2010-01-01'\n",
        "end = '2021-01-01'\n",
        "stock_prices = yf.download(tickers, start=start, end=end, interval='1d')    #1d는 1day\n",
        "stock_prices.head()"
      ],
      "metadata": {
        "id": "-LAnNbMehWa5"
      },
      "execution_count": null,
      "outputs": []
    },
    {
      "cell_type": "code",
      "source": [
        "stock_prices = stock_prices['Close']\n",
        "stock_prices.head()"
      ],
      "metadata": {
        "id": "1eFwMM2Th5ji"
      },
      "execution_count": null,
      "outputs": []
    },
    {
      "cell_type": "code",
      "source": [
        "plt.plot(stock_prices.iloc[:, :-1])\n",
        "plt.title('S&P 500 listed stock prices')\n",
        "plt.xlabel('Date')\n",
        "plt.ylabel('Prices')\n",
        "plt.show()"
      ],
      "metadata": {
        "id": "nSK9UhaTjWc2"
      },
      "execution_count": null,
      "outputs": []
    },
    {
      "cell_type": "code",
      "source": [
        "#Fred API\n",
        "!pip3 install fredapi"
      ],
      "metadata": {
        "id": "57Yn8f30jnVZ"
      },
      "execution_count": null,
      "outputs": []
    },
    {
      "cell_type": "code",
      "source": [
        "from fredapi import Fred\n",
        "fred = Fred(api_key='78b14ec6ba46f484b94db43694468bb1')"
      ],
      "metadata": {
        "id": "ewMIFEW9y2q1"
      },
      "execution_count": 99,
      "outputs": []
    },
    {
      "cell_type": "code",
      "source": [
        "fred.search('interest')"
      ],
      "metadata": {
        "id": "xB7IXM20z0qL"
      },
      "execution_count": null,
      "outputs": []
    },
    {
      "cell_type": "code",
      "source": [
        "interest_rate = fred.get_series('FEDFUNDS')\n",
        "interest_rate.head()"
      ],
      "metadata": {
        "id": "2NHFYTuiz6BB"
      },
      "execution_count": null,
      "outputs": []
    },
    {
      "cell_type": "code",
      "source": [
        "plt.plot(interest_rate)\n",
        "plt.title('Federal Reserve Interest Rate')\n",
        "plt.xlabel('Date')\n",
        "plt.ylabel('%')\n",
        "plt.show()"
      ],
      "metadata": {
        "id": "dSV097Nq0Ju5"
      },
      "execution_count": null,
      "outputs": []
    },
    {
      "cell_type": "code",
      "source": [
        "#Quandl\n",
        "!pip3 install quandl"
      ],
      "metadata": {
        "id": "m8_C9gQ60TQJ"
      },
      "execution_count": null,
      "outputs": []
    },
    {
      "cell_type": "code",
      "source": [
        "import quandl\n",
        "crude_oil = quandl.get('FRED/DCOILBRENTEU', authtoken='vEjGTysiCFBuN-z5bjGP')"
      ],
      "metadata": {
        "id": "RxM87-RS1Pv6"
      },
      "execution_count": 113,
      "outputs": []
    },
    {
      "cell_type": "code",
      "source": [
        "crude_oil.head()"
      ],
      "metadata": {
        "id": "oRZXYaot1msI"
      },
      "execution_count": null,
      "outputs": []
    },
    {
      "cell_type": "code",
      "source": [
        "plt.plot(crude_oil)\n",
        "plt.title('Crude Oil Prices')\n",
        "plt.xlabel('Date')\n",
        "plt.ylabel('$')\n",
        "plt.show()"
      ],
      "metadata": {
        "id": "y0WHFsyW2FDp"
      },
      "execution_count": null,
      "outputs": []
    },
    {
      "cell_type": "code",
      "source": [
        "#World Bank Data\n",
        "!pip3 install world_bank_data"
      ],
      "metadata": {
        "id": "r1jisF3B2PLa"
      },
      "execution_count": null,
      "outputs": []
    },
    {
      "cell_type": "code",
      "source": [
        "import world_bank_data as wb"
      ],
      "metadata": {
        "id": "J898JbWH2l6K"
      },
      "execution_count": 117,
      "outputs": []
    },
    {
      "cell_type": "code",
      "source": [
        "wb.get_sources()"
      ],
      "metadata": {
        "id": "HVQmqBMF2opw"
      },
      "execution_count": null,
      "outputs": []
    },
    {
      "cell_type": "code",
      "source": [
        "wb.search_indicators('', source=2)    #source2는 id를 의미 (여기서는 WDI)"
      ],
      "metadata": {
        "id": "RtHx_ofA2wH7"
      },
      "execution_count": null,
      "outputs": []
    },
    {
      "cell_type": "code",
      "source": [
        "wb.search_indicators('inflation', source=2)"
      ],
      "metadata": {
        "id": "cXzIjvcc3M-7"
      },
      "execution_count": null,
      "outputs": []
    },
    {
      "cell_type": "code",
      "source": [
        "wb.search_countries('Korea')\n"
      ],
      "metadata": {
        "id": "AoB43A0N3gjC"
      },
      "execution_count": null,
      "outputs": []
    },
    {
      "cell_type": "code",
      "source": [
        "inflation = wb.get_series('FP.CPI.TOTL.ZG', country='KOR', date='2010:2020', id_or_value='id', simplify_index=True)\n",
        "inflation"
      ],
      "metadata": {
        "id": "PqCb-7rJ4HGJ"
      },
      "execution_count": null,
      "outputs": []
    },
    {
      "cell_type": "code",
      "source": [
        "unemployment = wb.get_series('SL.UEM.TOTL.NE.ZS', country=['KOR', 'USA'], date='2010:2020', id_or_value='id', simplify_index=True)\n",
        "unemployment"
      ],
      "metadata": {
        "id": "SAKCsNVD4RiA"
      },
      "execution_count": null,
      "outputs": []
    },
    {
      "cell_type": "code",
      "source": [
        "#Capital Asset Pricing Model (CAPM)\n",
        "import pandas as pd\n",
        "import matplotlib.pyplot as plt\n",
        "import yfinance as yf\n",
        "import datetime"
      ],
      "metadata": {
        "id": "kTmPl6044pux"
      },
      "execution_count": 130,
      "outputs": []
    },
    {
      "cell_type": "code",
      "source": [
        "stocks = ['AAPL', 'IBM', 'MSFT', 'INTC', '^GSPC']\n",
        "start = '2021-1-1'\n",
        "end = '2022-1-1'\n",
        "stock_prices = yf.download(stocks, start=start, end=end, interval='1d')\n",
        "stock_prices.head()"
      ],
      "metadata": {
        "colab": {
          "base_uri": "https://localhost:8080/",
          "height": 438
        },
        "id": "FvsQZ6jC7tco",
        "outputId": "ae4b6b5b-9ca1-4760-9702-0daff6aaf039"
      },
      "execution_count": 132,
      "outputs": [
        {
          "output_type": "stream",
          "name": "stdout",
          "text": [
            "[*********************100%***********************]  5 of 5 completed\n"
          ]
        },
        {
          "output_type": "execute_result",
          "data": {
            "text/html": [
              "\n",
              "  <div id=\"df-850bc798-1398-48ad-9cfc-fd7c3666705f\">\n",
              "    <div class=\"colab-df-container\">\n",
              "      <div>\n",
              "<style scoped>\n",
              "    .dataframe tbody tr th:only-of-type {\n",
              "        vertical-align: middle;\n",
              "    }\n",
              "\n",
              "    .dataframe tbody tr th {\n",
              "        vertical-align: top;\n",
              "    }\n",
              "\n",
              "    .dataframe thead tr th {\n",
              "        text-align: left;\n",
              "    }\n",
              "\n",
              "    .dataframe thead tr:last-of-type th {\n",
              "        text-align: right;\n",
              "    }\n",
              "</style>\n",
              "<table border=\"1\" class=\"dataframe\">\n",
              "  <thead>\n",
              "    <tr>\n",
              "      <th></th>\n",
              "      <th colspan=\"5\" halign=\"left\">Adj Close</th>\n",
              "      <th colspan=\"5\" halign=\"left\">Close</th>\n",
              "      <th colspan=\"5\" halign=\"left\">High</th>\n",
              "      <th colspan=\"5\" halign=\"left\">Low</th>\n",
              "      <th colspan=\"5\" halign=\"left\">Open</th>\n",
              "      <th colspan=\"5\" halign=\"left\">Volume</th>\n",
              "    </tr>\n",
              "    <tr>\n",
              "      <th></th>\n",
              "      <th>AAPL</th>\n",
              "      <th>IBM</th>\n",
              "      <th>INTC</th>\n",
              "      <th>MSFT</th>\n",
              "      <th>^GSPC</th>\n",
              "      <th>AAPL</th>\n",
              "      <th>IBM</th>\n",
              "      <th>INTC</th>\n",
              "      <th>MSFT</th>\n",
              "      <th>^GSPC</th>\n",
              "      <th>AAPL</th>\n",
              "      <th>IBM</th>\n",
              "      <th>INTC</th>\n",
              "      <th>MSFT</th>\n",
              "      <th>^GSPC</th>\n",
              "      <th>AAPL</th>\n",
              "      <th>IBM</th>\n",
              "      <th>INTC</th>\n",
              "      <th>MSFT</th>\n",
              "      <th>^GSPC</th>\n",
              "      <th>AAPL</th>\n",
              "      <th>IBM</th>\n",
              "      <th>INTC</th>\n",
              "      <th>MSFT</th>\n",
              "      <th>^GSPC</th>\n",
              "      <th>AAPL</th>\n",
              "      <th>IBM</th>\n",
              "      <th>INTC</th>\n",
              "      <th>MSFT</th>\n",
              "      <th>^GSPC</th>\n",
              "    </tr>\n",
              "    <tr>\n",
              "      <th>Date</th>\n",
              "      <th></th>\n",
              "      <th></th>\n",
              "      <th></th>\n",
              "      <th></th>\n",
              "      <th></th>\n",
              "      <th></th>\n",
              "      <th></th>\n",
              "      <th></th>\n",
              "      <th></th>\n",
              "      <th></th>\n",
              "      <th></th>\n",
              "      <th></th>\n",
              "      <th></th>\n",
              "      <th></th>\n",
              "      <th></th>\n",
              "      <th></th>\n",
              "      <th></th>\n",
              "      <th></th>\n",
              "      <th></th>\n",
              "      <th></th>\n",
              "      <th></th>\n",
              "      <th></th>\n",
              "      <th></th>\n",
              "      <th></th>\n",
              "      <th></th>\n",
              "      <th></th>\n",
              "      <th></th>\n",
              "      <th></th>\n",
              "      <th></th>\n",
              "      <th></th>\n",
              "    </tr>\n",
              "  </thead>\n",
              "  <tbody>\n",
              "    <tr>\n",
              "      <th>2021-01-04</th>\n",
              "      <td>128.617111</td>\n",
              "      <td>112.813461</td>\n",
              "      <td>48.414623</td>\n",
              "      <td>215.880432</td>\n",
              "      <td>3700.649902</td>\n",
              "      <td>129.410004</td>\n",
              "      <td>118.489487</td>\n",
              "      <td>49.669998</td>\n",
              "      <td>217.690002</td>\n",
              "      <td>3700.649902</td>\n",
              "      <td>133.610001</td>\n",
              "      <td>120.382408</td>\n",
              "      <td>51.389999</td>\n",
              "      <td>223.000000</td>\n",
              "      <td>3769.989990</td>\n",
              "      <td>126.760002</td>\n",
              "      <td>117.629066</td>\n",
              "      <td>49.400002</td>\n",
              "      <td>214.809998</td>\n",
              "      <td>3662.709961</td>\n",
              "      <td>133.520004</td>\n",
              "      <td>120.315491</td>\n",
              "      <td>49.889999</td>\n",
              "      <td>222.529999</td>\n",
              "      <td>3764.610107</td>\n",
              "      <td>143301900</td>\n",
              "      <td>5417443</td>\n",
              "      <td>46102500</td>\n",
              "      <td>37130100</td>\n",
              "      <td>5006680000</td>\n",
              "    </tr>\n",
              "    <tr>\n",
              "      <th>2021-01-05</th>\n",
              "      <td>130.207291</td>\n",
              "      <td>114.815948</td>\n",
              "      <td>49.330872</td>\n",
              "      <td>216.088669</td>\n",
              "      <td>3726.860107</td>\n",
              "      <td>131.009995</td>\n",
              "      <td>120.592735</td>\n",
              "      <td>50.610001</td>\n",
              "      <td>217.899994</td>\n",
              "      <td>3726.860107</td>\n",
              "      <td>131.740005</td>\n",
              "      <td>121.108986</td>\n",
              "      <td>50.830002</td>\n",
              "      <td>218.520004</td>\n",
              "      <td>3737.830078</td>\n",
              "      <td>128.429993</td>\n",
              "      <td>119.130020</td>\n",
              "      <td>49.330002</td>\n",
              "      <td>215.699997</td>\n",
              "      <td>3695.070068</td>\n",
              "      <td>128.889999</td>\n",
              "      <td>119.512428</td>\n",
              "      <td>49.450001</td>\n",
              "      <td>217.259995</td>\n",
              "      <td>3698.020020</td>\n",
              "      <td>97664900</td>\n",
              "      <td>6395872</td>\n",
              "      <td>24866600</td>\n",
              "      <td>23823000</td>\n",
              "      <td>4582620000</td>\n",
              "    </tr>\n",
              "    <tr>\n",
              "      <th>2021-01-06</th>\n",
              "      <td>125.824326</td>\n",
              "      <td>117.683174</td>\n",
              "      <td>49.808479</td>\n",
              "      <td>210.485641</td>\n",
              "      <td>3748.139893</td>\n",
              "      <td>126.599998</td>\n",
              "      <td>123.604210</td>\n",
              "      <td>51.099998</td>\n",
              "      <td>212.250000</td>\n",
              "      <td>3748.139893</td>\n",
              "      <td>131.050003</td>\n",
              "      <td>126.080307</td>\n",
              "      <td>52.150002</td>\n",
              "      <td>216.490005</td>\n",
              "      <td>3783.040039</td>\n",
              "      <td>126.379997</td>\n",
              "      <td>121.147224</td>\n",
              "      <td>50.200001</td>\n",
              "      <td>211.940002</td>\n",
              "      <td>3705.340088</td>\n",
              "      <td>127.720001</td>\n",
              "      <td>121.319313</td>\n",
              "      <td>50.439999</td>\n",
              "      <td>212.169998</td>\n",
              "      <td>3712.199951</td>\n",
              "      <td>155088000</td>\n",
              "      <td>8322708</td>\n",
              "      <td>36809600</td>\n",
              "      <td>35930700</td>\n",
              "      <td>6049970000</td>\n",
              "    </tr>\n",
              "    <tr>\n",
              "      <th>2021-01-07</th>\n",
              "      <td>130.117844</td>\n",
              "      <td>117.410103</td>\n",
              "      <td>50.870934</td>\n",
              "      <td>216.475433</td>\n",
              "      <td>3803.790039</td>\n",
              "      <td>130.919998</td>\n",
              "      <td>123.317398</td>\n",
              "      <td>52.189999</td>\n",
              "      <td>218.289993</td>\n",
              "      <td>3803.790039</td>\n",
              "      <td>131.630005</td>\n",
              "      <td>124.722755</td>\n",
              "      <td>52.689999</td>\n",
              "      <td>219.339996</td>\n",
              "      <td>3811.550049</td>\n",
              "      <td>127.860001</td>\n",
              "      <td>122.619499</td>\n",
              "      <td>51.299999</td>\n",
              "      <td>213.710007</td>\n",
              "      <td>3764.709961</td>\n",
              "      <td>128.360001</td>\n",
              "      <td>124.321220</td>\n",
              "      <td>51.490002</td>\n",
              "      <td>214.039993</td>\n",
              "      <td>3764.709961</td>\n",
              "      <td>109578200</td>\n",
              "      <td>4714740</td>\n",
              "      <td>32092300</td>\n",
              "      <td>27694500</td>\n",
              "      <td>5080870000</td>\n",
              "    </tr>\n",
              "    <tr>\n",
              "      <th>2021-01-08</th>\n",
              "      <td>131.240921</td>\n",
              "      <td>116.991394</td>\n",
              "      <td>50.344585</td>\n",
              "      <td>217.794388</td>\n",
              "      <td>3824.679932</td>\n",
              "      <td>132.050003</td>\n",
              "      <td>122.877632</td>\n",
              "      <td>51.650002</td>\n",
              "      <td>219.619995</td>\n",
              "      <td>3824.679932</td>\n",
              "      <td>132.630005</td>\n",
              "      <td>123.632889</td>\n",
              "      <td>52.529999</td>\n",
              "      <td>220.580002</td>\n",
              "      <td>3826.689941</td>\n",
              "      <td>130.229996</td>\n",
              "      <td>121.395790</td>\n",
              "      <td>51.270000</td>\n",
              "      <td>217.029999</td>\n",
              "      <td>3783.600098</td>\n",
              "      <td>132.429993</td>\n",
              "      <td>122.915871</td>\n",
              "      <td>52.450001</td>\n",
              "      <td>218.679993</td>\n",
              "      <td>3815.050049</td>\n",
              "      <td>105158200</td>\n",
              "      <td>4891305</td>\n",
              "      <td>34625400</td>\n",
              "      <td>22956200</td>\n",
              "      <td>4764180000</td>\n",
              "    </tr>\n",
              "  </tbody>\n",
              "</table>\n",
              "</div>\n",
              "      <button class=\"colab-df-convert\" onclick=\"convertToInteractive('df-850bc798-1398-48ad-9cfc-fd7c3666705f')\"\n",
              "              title=\"Convert this dataframe to an interactive table.\"\n",
              "              style=\"display:none;\">\n",
              "        \n",
              "  <svg xmlns=\"http://www.w3.org/2000/svg\" height=\"24px\"viewBox=\"0 0 24 24\"\n",
              "       width=\"24px\">\n",
              "    <path d=\"M0 0h24v24H0V0z\" fill=\"none\"/>\n",
              "    <path d=\"M18.56 5.44l.94 2.06.94-2.06 2.06-.94-2.06-.94-.94-2.06-.94 2.06-2.06.94zm-11 1L8.5 8.5l.94-2.06 2.06-.94-2.06-.94L8.5 2.5l-.94 2.06-2.06.94zm10 10l.94 2.06.94-2.06 2.06-.94-2.06-.94-.94-2.06-.94 2.06-2.06.94z\"/><path d=\"M17.41 7.96l-1.37-1.37c-.4-.4-.92-.59-1.43-.59-.52 0-1.04.2-1.43.59L10.3 9.45l-7.72 7.72c-.78.78-.78 2.05 0 2.83L4 21.41c.39.39.9.59 1.41.59.51 0 1.02-.2 1.41-.59l7.78-7.78 2.81-2.81c.8-.78.8-2.07 0-2.86zM5.41 20L4 18.59l7.72-7.72 1.47 1.35L5.41 20z\"/>\n",
              "  </svg>\n",
              "      </button>\n",
              "      \n",
              "  <style>\n",
              "    .colab-df-container {\n",
              "      display:flex;\n",
              "      flex-wrap:wrap;\n",
              "      gap: 12px;\n",
              "    }\n",
              "\n",
              "    .colab-df-convert {\n",
              "      background-color: #E8F0FE;\n",
              "      border: none;\n",
              "      border-radius: 50%;\n",
              "      cursor: pointer;\n",
              "      display: none;\n",
              "      fill: #1967D2;\n",
              "      height: 32px;\n",
              "      padding: 0 0 0 0;\n",
              "      width: 32px;\n",
              "    }\n",
              "\n",
              "    .colab-df-convert:hover {\n",
              "      background-color: #E2EBFA;\n",
              "      box-shadow: 0px 1px 2px rgba(60, 64, 67, 0.3), 0px 1px 3px 1px rgba(60, 64, 67, 0.15);\n",
              "      fill: #174EA6;\n",
              "    }\n",
              "\n",
              "    [theme=dark] .colab-df-convert {\n",
              "      background-color: #3B4455;\n",
              "      fill: #D2E3FC;\n",
              "    }\n",
              "\n",
              "    [theme=dark] .colab-df-convert:hover {\n",
              "      background-color: #434B5C;\n",
              "      box-shadow: 0px 1px 3px 1px rgba(0, 0, 0, 0.15);\n",
              "      filter: drop-shadow(0px 1px 2px rgba(0, 0, 0, 0.3));\n",
              "      fill: #FFFFFF;\n",
              "    }\n",
              "  </style>\n",
              "\n",
              "      <script>\n",
              "        const buttonEl =\n",
              "          document.querySelector('#df-850bc798-1398-48ad-9cfc-fd7c3666705f button.colab-df-convert');\n",
              "        buttonEl.style.display =\n",
              "          google.colab.kernel.accessAllowed ? 'block' : 'none';\n",
              "\n",
              "        async function convertToInteractive(key) {\n",
              "          const element = document.querySelector('#df-850bc798-1398-48ad-9cfc-fd7c3666705f');\n",
              "          const dataTable =\n",
              "            await google.colab.kernel.invokeFunction('convertToInteractive',\n",
              "                                                     [key], {});\n",
              "          if (!dataTable) return;\n",
              "\n",
              "          const docLinkHtml = 'Like what you see? Visit the ' +\n",
              "            '<a target=\"_blank\" href=https://colab.research.google.com/notebooks/data_table.ipynb>data table notebook</a>'\n",
              "            + ' to learn more about interactive tables.';\n",
              "          element.innerHTML = '';\n",
              "          dataTable['output_type'] = 'display_data';\n",
              "          await google.colab.output.renderOutput(dataTable, element);\n",
              "          const docLink = document.createElement('div');\n",
              "          docLink.innerHTML = docLinkHtml;\n",
              "          element.appendChild(docLink);\n",
              "        }\n",
              "      </script>\n",
              "    </div>\n",
              "  </div>\n",
              "  "
            ],
            "text/plain": [
              "             Adj Close                         ...    Volume                      \n",
              "                  AAPL         IBM       INTC  ...      INTC      MSFT       ^GSPC\n",
              "Date                                           ...                                \n",
              "2021-01-04  128.617111  112.813461  48.414623  ...  46102500  37130100  5006680000\n",
              "2021-01-05  130.207291  114.815948  49.330872  ...  24866600  23823000  4582620000\n",
              "2021-01-06  125.824326  117.683174  49.808479  ...  36809600  35930700  6049970000\n",
              "2021-01-07  130.117844  117.410103  50.870934  ...  32092300  27694500  5080870000\n",
              "2021-01-08  131.240921  116.991394  50.344585  ...  34625400  22956200  4764180000\n",
              "\n",
              "[5 rows x 30 columns]"
            ]
          },
          "metadata": {},
          "execution_count": 132
        }
      ]
    },
    {
      "cell_type": "code",
      "source": [
        "stock_prices = stock_prices['Close']"
      ],
      "metadata": {
        "id": "eFwv4Xp48Nfw"
      },
      "execution_count": 133,
      "outputs": []
    },
    {
      "cell_type": "code",
      "source": [
        "stock_prices.isnull().sum()     #빈 셀이 있나 확인차원에서 진행"
      ],
      "metadata": {
        "colab": {
          "base_uri": "https://localhost:8080/"
        },
        "id": "t9LgA6238gA2",
        "outputId": "a2801517-ad65-4e04-c495-e8b6b3a4aaed"
      },
      "execution_count": 134,
      "outputs": [
        {
          "output_type": "execute_result",
          "data": {
            "text/plain": [
              "AAPL     0\n",
              "IBM      0\n",
              "INTC     0\n",
              "MSFT     0\n",
              "^GSPC    0\n",
              "dtype: int64"
            ]
          },
          "metadata": {},
          "execution_count": 134
        }
      ]
    },
    {
      "cell_type": "code",
      "source": [
        "stock_prices.describe()"
      ],
      "metadata": {
        "colab": {
          "base_uri": "https://localhost:8080/",
          "height": 300
        },
        "id": "MyktjS-h8h-e",
        "outputId": "e277eefd-ea2c-423d-bfd6-70ba09316b45"
      },
      "execution_count": 135,
      "outputs": [
        {
          "output_type": "execute_result",
          "data": {
            "text/html": [
              "\n",
              "  <div id=\"df-6d15a15b-d698-4010-b917-0c93e5e44e88\">\n",
              "    <div class=\"colab-df-container\">\n",
              "      <div>\n",
              "<style scoped>\n",
              "    .dataframe tbody tr th:only-of-type {\n",
              "        vertical-align: middle;\n",
              "    }\n",
              "\n",
              "    .dataframe tbody tr th {\n",
              "        vertical-align: top;\n",
              "    }\n",
              "\n",
              "    .dataframe thead th {\n",
              "        text-align: right;\n",
              "    }\n",
              "</style>\n",
              "<table border=\"1\" class=\"dataframe\">\n",
              "  <thead>\n",
              "    <tr style=\"text-align: right;\">\n",
              "      <th></th>\n",
              "      <th>AAPL</th>\n",
              "      <th>IBM</th>\n",
              "      <th>INTC</th>\n",
              "      <th>MSFT</th>\n",
              "      <th>^GSPC</th>\n",
              "    </tr>\n",
              "  </thead>\n",
              "  <tbody>\n",
              "    <tr>\n",
              "      <th>count</th>\n",
              "      <td>252.000000</td>\n",
              "      <td>252.000000</td>\n",
              "      <td>252.000000</td>\n",
              "      <td>252.000000</td>\n",
              "      <td>252.000000</td>\n",
              "    </tr>\n",
              "    <tr>\n",
              "      <th>mean</th>\n",
              "      <td>140.989365</td>\n",
              "      <td>128.959140</td>\n",
              "      <td>55.851786</td>\n",
              "      <td>275.940754</td>\n",
              "      <td>4273.385635</td>\n",
              "    </tr>\n",
              "    <tr>\n",
              "      <th>std</th>\n",
              "      <td>14.659580</td>\n",
              "      <td>8.428465</td>\n",
              "      <td>4.543209</td>\n",
              "      <td>36.940247</td>\n",
              "      <td>287.443815</td>\n",
              "    </tr>\n",
              "    <tr>\n",
              "      <th>min</th>\n",
              "      <td>116.360001</td>\n",
              "      <td>113.365204</td>\n",
              "      <td>47.889999</td>\n",
              "      <td>212.250000</td>\n",
              "      <td>3700.649902</td>\n",
              "    </tr>\n",
              "    <tr>\n",
              "      <th>25%</th>\n",
              "      <td>128.962498</td>\n",
              "      <td>121.572191</td>\n",
              "      <td>52.995000</td>\n",
              "      <td>244.097496</td>\n",
              "      <td>4071.214966</td>\n",
              "    </tr>\n",
              "    <tr>\n",
              "      <th>50%</th>\n",
              "      <td>141.305000</td>\n",
              "      <td>131.080307</td>\n",
              "      <td>55.225000</td>\n",
              "      <td>277.165009</td>\n",
              "      <td>4304.000000</td>\n",
              "    </tr>\n",
              "    <tr>\n",
              "      <th>75%</th>\n",
              "      <td>148.962505</td>\n",
              "      <td>136.113766</td>\n",
              "      <td>57.990002</td>\n",
              "      <td>301.842491</td>\n",
              "      <td>4486.287476</td>\n",
              "    </tr>\n",
              "    <tr>\n",
              "      <th>max</th>\n",
              "      <td>180.330002</td>\n",
              "      <td>144.627151</td>\n",
              "      <td>68.260002</td>\n",
              "      <td>343.109985</td>\n",
              "      <td>4793.060059</td>\n",
              "    </tr>\n",
              "  </tbody>\n",
              "</table>\n",
              "</div>\n",
              "      <button class=\"colab-df-convert\" onclick=\"convertToInteractive('df-6d15a15b-d698-4010-b917-0c93e5e44e88')\"\n",
              "              title=\"Convert this dataframe to an interactive table.\"\n",
              "              style=\"display:none;\">\n",
              "        \n",
              "  <svg xmlns=\"http://www.w3.org/2000/svg\" height=\"24px\"viewBox=\"0 0 24 24\"\n",
              "       width=\"24px\">\n",
              "    <path d=\"M0 0h24v24H0V0z\" fill=\"none\"/>\n",
              "    <path d=\"M18.56 5.44l.94 2.06.94-2.06 2.06-.94-2.06-.94-.94-2.06-.94 2.06-2.06.94zm-11 1L8.5 8.5l.94-2.06 2.06-.94-2.06-.94L8.5 2.5l-.94 2.06-2.06.94zm10 10l.94 2.06.94-2.06 2.06-.94-2.06-.94-.94-2.06-.94 2.06-2.06.94z\"/><path d=\"M17.41 7.96l-1.37-1.37c-.4-.4-.92-.59-1.43-.59-.52 0-1.04.2-1.43.59L10.3 9.45l-7.72 7.72c-.78.78-.78 2.05 0 2.83L4 21.41c.39.39.9.59 1.41.59.51 0 1.02-.2 1.41-.59l7.78-7.78 2.81-2.81c.8-.78.8-2.07 0-2.86zM5.41 20L4 18.59l7.72-7.72 1.47 1.35L5.41 20z\"/>\n",
              "  </svg>\n",
              "      </button>\n",
              "      \n",
              "  <style>\n",
              "    .colab-df-container {\n",
              "      display:flex;\n",
              "      flex-wrap:wrap;\n",
              "      gap: 12px;\n",
              "    }\n",
              "\n",
              "    .colab-df-convert {\n",
              "      background-color: #E8F0FE;\n",
              "      border: none;\n",
              "      border-radius: 50%;\n",
              "      cursor: pointer;\n",
              "      display: none;\n",
              "      fill: #1967D2;\n",
              "      height: 32px;\n",
              "      padding: 0 0 0 0;\n",
              "      width: 32px;\n",
              "    }\n",
              "\n",
              "    .colab-df-convert:hover {\n",
              "      background-color: #E2EBFA;\n",
              "      box-shadow: 0px 1px 2px rgba(60, 64, 67, 0.3), 0px 1px 3px 1px rgba(60, 64, 67, 0.15);\n",
              "      fill: #174EA6;\n",
              "    }\n",
              "\n",
              "    [theme=dark] .colab-df-convert {\n",
              "      background-color: #3B4455;\n",
              "      fill: #D2E3FC;\n",
              "    }\n",
              "\n",
              "    [theme=dark] .colab-df-convert:hover {\n",
              "      background-color: #434B5C;\n",
              "      box-shadow: 0px 1px 3px 1px rgba(0, 0, 0, 0.15);\n",
              "      filter: drop-shadow(0px 1px 2px rgba(0, 0, 0, 0.3));\n",
              "      fill: #FFFFFF;\n",
              "    }\n",
              "  </style>\n",
              "\n",
              "      <script>\n",
              "        const buttonEl =\n",
              "          document.querySelector('#df-6d15a15b-d698-4010-b917-0c93e5e44e88 button.colab-df-convert');\n",
              "        buttonEl.style.display =\n",
              "          google.colab.kernel.accessAllowed ? 'block' : 'none';\n",
              "\n",
              "        async function convertToInteractive(key) {\n",
              "          const element = document.querySelector('#df-6d15a15b-d698-4010-b917-0c93e5e44e88');\n",
              "          const dataTable =\n",
              "            await google.colab.kernel.invokeFunction('convertToInteractive',\n",
              "                                                     [key], {});\n",
              "          if (!dataTable) return;\n",
              "\n",
              "          const docLinkHtml = 'Like what you see? Visit the ' +\n",
              "            '<a target=\"_blank\" href=https://colab.research.google.com/notebooks/data_table.ipynb>data table notebook</a>'\n",
              "            + ' to learn more about interactive tables.';\n",
              "          element.innerHTML = '';\n",
              "          dataTable['output_type'] = 'display_data';\n",
              "          await google.colab.output.renderOutput(dataTable, element);\n",
              "          const docLink = document.createElement('div');\n",
              "          docLink.innerHTML = docLinkHtml;\n",
              "          element.appendChild(docLink);\n",
              "        }\n",
              "      </script>\n",
              "    </div>\n",
              "  </div>\n",
              "  "
            ],
            "text/plain": [
              "             AAPL         IBM        INTC        MSFT        ^GSPC\n",
              "count  252.000000  252.000000  252.000000  252.000000   252.000000\n",
              "mean   140.989365  128.959140   55.851786  275.940754  4273.385635\n",
              "std     14.659580    8.428465    4.543209   36.940247   287.443815\n",
              "min    116.360001  113.365204   47.889999  212.250000  3700.649902\n",
              "25%    128.962498  121.572191   52.995000  244.097496  4071.214966\n",
              "50%    141.305000  131.080307   55.225000  277.165009  4304.000000\n",
              "75%    148.962505  136.113766   57.990002  301.842491  4486.287476\n",
              "max    180.330002  144.627151   68.260002  343.109985  4793.060059"
            ]
          },
          "metadata": {},
          "execution_count": 135
        }
      ]
    },
    {
      "cell_type": "code",
      "source": [
        "stock_prices = stock_prices.rename({'^GSPC':'GSPC'}, axis='columns')"
      ],
      "metadata": {
        "id": "Aoy83g-A8kgG"
      },
      "execution_count": 137,
      "outputs": []
    },
    {
      "cell_type": "code",
      "source": [
        "from fredapi import Fred\n",
        "fred = Fred(api_key='78b14ec6ba46f484b94db43694468bb1')"
      ],
      "metadata": {
        "id": "DJiVqWVD9QqI"
      },
      "execution_count": 138,
      "outputs": []
    },
    {
      "cell_type": "code",
      "source": [
        "fred.search('risk free')"
      ],
      "metadata": {
        "id": "aJxScn4-9jb_"
      },
      "execution_count": null,
      "outputs": []
    },
    {
      "cell_type": "code",
      "source": [
        "risk_free = fred.get_series('DGS1MO')\n",
        "risk_free['2021-01-01':'2022-01-01']"
      ],
      "metadata": {
        "colab": {
          "base_uri": "https://localhost:8080/"
        },
        "id": "TgpQmzAe9kkV",
        "outputId": "7176f80c-0f7f-4ebe-ea33-ada0b454754f"
      },
      "execution_count": 142,
      "outputs": [
        {
          "output_type": "execute_result",
          "data": {
            "text/plain": [
              "2021-01-01     NaN\n",
              "2021-01-04    0.09\n",
              "2021-01-05    0.08\n",
              "2021-01-06    0.09\n",
              "2021-01-07    0.09\n",
              "              ... \n",
              "2021-12-27    0.04\n",
              "2021-12-28    0.03\n",
              "2021-12-29    0.01\n",
              "2021-12-30    0.06\n",
              "2021-12-31    0.06\n",
              "Length: 261, dtype: float64"
            ]
          },
          "metadata": {},
          "execution_count": 142
        }
      ]
    },
    {
      "cell_type": "code",
      "source": [
        ""
      ],
      "metadata": {
        "id": "kmSmQZJj-1av"
      },
      "execution_count": null,
      "outputs": []
    }
  ]
}